{
 "cells": [
  {
   "cell_type": "markdown",
   "metadata": {},
   "source": [
    "## Basic 2x1 XOR Problem Neural Network with Pytorch"
   ]
  },
  {
   "cell_type": "code",
   "execution_count": 4,
   "metadata": {},
   "outputs": [],
   "source": [
    "import torch\n",
    "import torch.nn as nn\n",
    "import matplotlib.pyplot as plt\n",
    "import numpy as np"
   ]
  },
  {
   "cell_type": "code",
   "execution_count": 6,
   "metadata": {},
   "outputs": [
    {
     "data": {
      "text/plain": [
       "<matplotlib.collections.PathCollection at 0x160d26fa608>"
      ]
     },
     "execution_count": 6,
     "metadata": {},
     "output_type": "execute_result"
    },
    {
     "data": {
      "image/png": "[encoded data removed]",
      "text/plain": [
       "<Figure size 432x288 with 1 Axes>"
      ]
     },
     "metadata": {
      "needs_background": "light"
     },
     "output_type": "display_data"
    }
   ],
   "source": [
    "x1 = np.array([0., 0., 1., 1.], dtype = np.float32)\n",
    "x2 = np.array([0., 1., 0., 1.], dtype = np.float32)\n",
    "y  = np.array([0., 1., 1., 0. ],dtype = np.float32)\n",
    "plt.scatter(x1, x2, c=y)"
   ]
  },
  {
   "cell_type": "code",
   "execution_count": 8,
   "metadata": {},
   "outputs": [],
   "source": [
    "def create_dataset(x1, x2, y):\n",
    "  # Repeat the numbers from x1, x2, and y 50 times\n",
    "  x1 = np.repeat(x1, 50)\n",
    "  x2 = np.repeat(x2, 50)\n",
    "  y =  np.repeat(y,  50)\n",
    "\n",
    "  # Add noise to data points just to have some data variety\n",
    "  x1 = x1 + np.random.rand(x1.shape[0])*0.05\n",
    "  x2 = x2 + np.random.rand(x2.shape[0])*0.05\n",
    "\n",
    "  # Shuffle\n",
    "  index_shuffle = np.arange(x1.shape[0])\n",
    "  np.random.shuffle(index_shuffle)\n",
    "\n",
    "  x1 = x1.astype(np.float32)\n",
    "  x2 = x2.astype(np.float32)\n",
    "  y  = y.astype(np.float32)\n",
    "\n",
    "  x1 = x1[index_shuffle]\n",
    "  x2 = x2[index_shuffle]\n",
    "  y  = y [index_shuffle]\n",
    "\n",
    "  # Convert data to tensors\n",
    "  x1_torch = torch.from_numpy(x1).clone().view(-1, 1)\n",
    "  x2_torch = torch.from_numpy(x2).clone().view(-1, 1)\n",
    "  y_torch = torch.from_numpy(y).clone().view(-1, 1)\n",
    "\n",
    "  # Combine X1 and X2\n",
    "  X = torch.hstack([x1_torch, x2_torch])\n",
    "\n",
    "\n",
    "  # Split into training and testing\n",
    "  X_train = X[:150,:]\n",
    "  X_test  = X[150:,:]\n",
    "  y_train = y_torch[:150,:]\n",
    "  y_test  = y_torch[150:,:]\n",
    "\n",
    "  return X_train, y_train, X_test, y_test"
   ]
  },
  {
   "cell_type": "code",
   "execution_count": 9,
   "metadata": {},
   "outputs": [
    {
     "data": {
      "text/plain": [
       "<matplotlib.collections.PathCollection at 0x160d27c9a08>"
      ]
     },
     "execution_count": 9,
     "metadata": {},
     "output_type": "execute_result"
    },
    {
     "data": {
      "image/png": "[encoded data removed]",
      "text/plain": [
       "<Figure size 432x288 with 1 Axes>"
      ]
     },
     "metadata": {
      "needs_background": "light"
     },
     "output_type": "display_data"
    }
   ],
   "source": [
    "X_train, y_train, X_test, y_test = create_dataset(x1, x2, y)\n",
    "plt.scatter(X_train[:, 0], X_train[:, 1], c=y_train)"
   ]
  },
  {
   "cell_type": "markdown",
   "metadata": {},
   "source": [
    "Basic network implementation using Pytorch convention:"
   ]
  },
  {
   "cell_type": "code",
   "execution_count": 24,
   "metadata": {},
   "outputs": [],
   "source": [
    "class XOR(nn.Module):\n",
    "    def __init__(self):        \n",
    "        super(XOR, self).__init__()        \n",
    "        self.linear = nn.Linear(2, 2)        \n",
    "        self.Sigmoid = nn.Sigmoid()        \n",
    "        self.linear2 = nn.Linear(2, 1)\n",
    "    def forward(self, input):        \n",
    "        x = self.linear(input)       \n",
    "        sig = self.Sigmoid(x)        \n",
    "        yh = self.linear2(sig)        \n",
    "        return yh"
   ]
  },
  {
   "cell_type": "code",
   "execution_count": 25,
   "metadata": {},
   "outputs": [],
   "source": [
    "xor_network = XOR()"
   ]
  },
  {
   "cell_type": "markdown",
   "metadata": {},
   "source": [
    "Running for 1000 epochs using Mean Square Error, and the Adam optimizer. Plotting every 50 epochs. "
   ]
  },
  {
   "cell_type": "code",
   "execution_count": 27,
   "metadata": {},
   "outputs": [
    {
     "name": "stdout",
     "output_type": "stream",
     "text": [
      "Epoch: 0 completed\n",
      "Epoch: 500 completed\n"
     ]
    }
   ],
   "source": [
    "epochs = 1000\n",
    "mseloss = nn.MSELoss()\n",
    "optimizer = torch.optim.Adam(xor_network.parameters(), lr = 0.03)\n",
    "all_losses = []\n",
    "current_loss = 0\n",
    "plot_every = 50\n",
    "Xs = X_train\n",
    "y = y_train\n",
    "for epoch in range(epochs):\n",
    "\n",
    "  # input training example and return the prediction\n",
    "  yhat = xor_network.forward(Xs)\n",
    "\n",
    "  # calculate MSE loss\n",
    "  loss = mseloss(yhat, y)\n",
    "  \n",
    "  # backpropogate through the loss gradiants\n",
    "  loss.backward()\n",
    "\n",
    "  # update model weights\n",
    "  optimizer.step()\n",
    "\n",
    "  # remove current gradients for next iteration\n",
    "  optimizer.zero_grad()\n",
    "\n",
    "  # append to loss\n",
    "  current_loss += loss\n",
    "  if epoch % plot_every == 0:\n",
    "      all_losses.append(current_loss / plot_every)\n",
    "      current_loss = 0\n",
    "  \n",
    "  # print progress\n",
    "  if epoch % 500 == 0:\n",
    "    print(f'Epoch: {epoch} completed')"
   ]
  },
  {
   "cell_type": "code",
   "execution_count": 29,
   "metadata": {},
   "outputs": [
    {
     "data": {
      "image/png": "[encoded data removed]",
      "text/plain": [
       "<Figure size 432x288 with 1 Axes>"
      ]
     },
     "metadata": {
      "needs_background": "light"
     },
     "output_type": "display_data"
    }
   ],
   "source": [
    "plt.plot(all_losses)\n",
    "plt.ylabel('Loss')\n",
    "plt.show()"
   ]
  },
  {
   "cell_type": "code",
   "execution_count": 30,
   "metadata": {},
   "outputs": [
    {
     "name": "stdout",
     "output_type": "stream",
     "text": [
      "linear.weight tensor([[ 4.0106, -4.0474],\n",
      "        [-5.4175,  5.5472]])\n",
      "linear.bias tensor([-2.0359, -3.3383])\n",
      "linear2.weight tensor([[1.3740, 1.3317]])\n",
      "linear2.bias tensor([-0.2058])\n"
     ]
    }
   ],
   "source": [
    "# show weights and bias\n",
    "for name, param in xor_network.named_parameters():\n",
    "    if param.requires_grad:\n",
    "        print(name, param.data)"
   ]
  },
  {
   "cell_type": "code",
   "execution_count": 31,
   "metadata": {},
   "outputs": [
    {
     "name": "stdout",
     "output_type": "stream",
     "text": [
      "tensor([-0.], grad_fn=<RoundBackward>)\n"
     ]
    }
   ],
   "source": [
    "# test input\n",
    "input = torch.tensor([1., 1.])\n",
    "out = xor_network(input)\n",
    "print(out.round())"
   ]
  }
 ],
 "metadata": {
  "kernelspec": {
   "display_name": "Python 3.7.7 ('tf')",
   "language": "python",
   "name": "python3"
  },
  "language_info": {
   "codemirror_mode": {
    "name": "ipython",
    "version": 3
   },
   "file_extension": ".py",
   "mimetype": "text/x-python",
   "name": "python",
   "nbconvert_exporter": "python",
   "pygments_lexer": "ipython3",
   "version": "3.7.7"
  },
  "orig_nbformat": 4,
  "vscode": {
   "interpreter": {
    "hash": "b3bc4f89ec2530468e97c52dbf97afd6d2fd228eea25e85c8a9350019ab26705"
   }
  }
 },
 "nbformat": 4,
 "nbformat_minor": 2
}
